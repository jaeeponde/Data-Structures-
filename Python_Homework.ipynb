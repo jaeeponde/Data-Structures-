{
  "nbformat": 4,
  "nbformat_minor": 0,
  "metadata": {
    "colab": {
      "provenance": []
    },
    "kernelspec": {
      "name": "python3",
      "display_name": "Python 3"
    },
    "language_info": {
      "name": "python"
    }
  },
  "cells": [
    {
      "cell_type": "code",
      "execution_count": 4,
      "metadata": {
        "colab": {
          "base_uri": "https://localhost:8080/"
        },
        "id": "12zR-fllczSY",
        "outputId": "e4e4c7ab-4234-4375-cef9-342e73a3ce3f"
      },
      "outputs": [
        {
          "output_type": "stream",
          "name": "stderr",
          "text": [
            "<ipython-input-4-5b2737f0750a>:15: FutureWarning: A value is trying to be set on a copy of a DataFrame or Series through chained assignment using an inplace method.\n",
            "The behavior will change in pandas 3.0. This inplace method will never work because the intermediate object on which we are setting values always behaves as a copy.\n",
            "\n",
            "For example, when doing 'df[col].method(value, inplace=True)', try using 'df.method({col: value}, inplace=True)' or df[col] = df[col].method(value) instead, to perform the operation inplace on the original object.\n",
            "\n",
            "\n",
            "  dataset[column].fillna(dataset[column].mean(), inplace=True)\n",
            "<ipython-input-4-5b2737f0750a>:19: FutureWarning: A value is trying to be set on a copy of a DataFrame or Series through chained assignment using an inplace method.\n",
            "The behavior will change in pandas 3.0. This inplace method will never work because the intermediate object on which we are setting values always behaves as a copy.\n",
            "\n",
            "For example, when doing 'df[col].method(value, inplace=True)', try using 'df.method({col: value}, inplace=True)' or df[col] = df[col].method(value) instead, to perform the operation inplace on the original object.\n",
            "\n",
            "\n",
            "  dataset[column].fillna(dataset[column].mode()[0], inplace=True)\n"
          ]
        },
        {
          "output_type": "execute_result",
          "data": {
            "text/plain": [
              "(['Age', 'Income'],\n",
              "          Age   Income  Gender Region      City Purchased\n",
              " 0  25.000000  50000.0    Male  North  New York       Yes\n",
              " 1  30.000000  60000.0  Female  South    London        No\n",
              " 2  35.000000  75000.0  Female   East     Tokyo       Yes\n",
              " 3  40.000000  80000.0    Male   West     Paris        No\n",
              " 4  33.888889  45000.0    Male  North  New York       Yes\n",
              " 5  50.000000  59875.0  Female  South    London        No\n",
              " 6  28.000000  52000.0  Female   East     Tokyo       Yes\n",
              " 7  32.000000  62000.0    Male   West     Paris        No\n",
              " 8  36.000000  59875.0    Male  North  New York       Yes\n",
              " 9  29.000000  55000.0  Female   East     Tokyo        No)"
            ]
          },
          "metadata": {},
          "execution_count": 4
        }
      ],
      "source": [
        "# Question 1\n",
        "\n",
        "import pandas as pd\n",
        "\n",
        "# Load the dataset\n",
        "data = 'Dataset_for_Python_Questions.csv'\n",
        "dataset = pd.read_csv(data)\n",
        "\n",
        "# Identify columns with missing values\n",
        "missing_values = dataset.isnull().sum()\n",
        "missing_columns = missing_values[missing_values > 0].index.tolist()\n",
        "\n",
        "# Replace missing numerical values with the column mean\n",
        "for column in dataset.select_dtypes(include=['float64', 'int64']).columns:\n",
        "    dataset[column].fillna(dataset[column].mean(), inplace=True)\n",
        "\n",
        "# Replace missing categorical values with the most frequent value\n",
        "for column in dataset.select_dtypes(include=['object']).columns:\n",
        "    dataset[column].fillna(dataset[column].mode()[0], inplace=True)\n",
        "\n",
        "missing_columns, dataset"
      ]
    },
    {
      "cell_type": "code",
      "source": [
        "# Question 2\n",
        "\n",
        "# Simulating dataset for demonstration\n",
        "data = { 'date_column': ['2024-01-01', '2024-02-15', '2024-03-20'] }\n",
        "date_df = pd.DataFrame(data)\n",
        "\n",
        "# Convert the date column into datetime objects\n",
        "date_df['date_column'] = pd.to_datetime(date_df['date_column'])\n",
        "\n",
        "# Extract day, month, and year into separate columns\n",
        "date_df['day'] = date_df['date_column'].dt.day\n",
        "date_df['month'] = date_df['date_column'].dt.month\n",
        "date_df['year'] = date_df['date_column'].dt.year\n",
        "\n",
        "date_df[['day', 'month', 'year']]"
      ],
      "metadata": {
        "colab": {
          "base_uri": "https://localhost:8080/",
          "height": 143
        },
        "id": "VblgMVcLdagc",
        "outputId": "3b33b6b5-5900-4d01-a4a7-5da052060702"
      },
      "execution_count": 5,
      "outputs": [
        {
          "output_type": "execute_result",
          "data": {
            "text/plain": [
              "   day  month  year\n",
              "0    1      1  2024\n",
              "1   15      2  2024\n",
              "2   20      3  2024"
            ],
            "text/html": [
              "\n",
              "  <div id=\"df-656f6c10-2a78-4594-9f2f-9764a3ed8762\" class=\"colab-df-container\">\n",
              "    <div>\n",
              "<style scoped>\n",
              "    .dataframe tbody tr th:only-of-type {\n",
              "        vertical-align: middle;\n",
              "    }\n",
              "\n",
              "    .dataframe tbody tr th {\n",
              "        vertical-align: top;\n",
              "    }\n",
              "\n",
              "    .dataframe thead th {\n",
              "        text-align: right;\n",
              "    }\n",
              "</style>\n",
              "<table border=\"1\" class=\"dataframe\">\n",
              "  <thead>\n",
              "    <tr style=\"text-align: right;\">\n",
              "      <th></th>\n",
              "      <th>day</th>\n",
              "      <th>month</th>\n",
              "      <th>year</th>\n",
              "    </tr>\n",
              "  </thead>\n",
              "  <tbody>\n",
              "    <tr>\n",
              "      <th>0</th>\n",
              "      <td>1</td>\n",
              "      <td>1</td>\n",
              "      <td>2024</td>\n",
              "    </tr>\n",
              "    <tr>\n",
              "      <th>1</th>\n",
              "      <td>15</td>\n",
              "      <td>2</td>\n",
              "      <td>2024</td>\n",
              "    </tr>\n",
              "    <tr>\n",
              "      <th>2</th>\n",
              "      <td>20</td>\n",
              "      <td>3</td>\n",
              "      <td>2024</td>\n",
              "    </tr>\n",
              "  </tbody>\n",
              "</table>\n",
              "</div>\n",
              "    <div class=\"colab-df-buttons\">\n",
              "\n",
              "  <div class=\"colab-df-container\">\n",
              "    <button class=\"colab-df-convert\" onclick=\"convertToInteractive('df-656f6c10-2a78-4594-9f2f-9764a3ed8762')\"\n",
              "            title=\"Convert this dataframe to an interactive table.\"\n",
              "            style=\"display:none;\">\n",
              "\n",
              "  <svg xmlns=\"http://www.w3.org/2000/svg\" height=\"24px\" viewBox=\"0 -960 960 960\">\n",
              "    <path d=\"M120-120v-720h720v720H120Zm60-500h600v-160H180v160Zm220 220h160v-160H400v160Zm0 220h160v-160H400v160ZM180-400h160v-160H180v160Zm440 0h160v-160H620v160ZM180-180h160v-160H180v160Zm440 0h160v-160H620v160Z\"/>\n",
              "  </svg>\n",
              "    </button>\n",
              "\n",
              "  <style>\n",
              "    .colab-df-container {\n",
              "      display:flex;\n",
              "      gap: 12px;\n",
              "    }\n",
              "\n",
              "    .colab-df-convert {\n",
              "      background-color: #E8F0FE;\n",
              "      border: none;\n",
              "      border-radius: 50%;\n",
              "      cursor: pointer;\n",
              "      display: none;\n",
              "      fill: #1967D2;\n",
              "      height: 32px;\n",
              "      padding: 0 0 0 0;\n",
              "      width: 32px;\n",
              "    }\n",
              "\n",
              "    .colab-df-convert:hover {\n",
              "      background-color: #E2EBFA;\n",
              "      box-shadow: 0px 1px 2px rgba(60, 64, 67, 0.3), 0px 1px 3px 1px rgba(60, 64, 67, 0.15);\n",
              "      fill: #174EA6;\n",
              "    }\n",
              "\n",
              "    .colab-df-buttons div {\n",
              "      margin-bottom: 4px;\n",
              "    }\n",
              "\n",
              "    [theme=dark] .colab-df-convert {\n",
              "      background-color: #3B4455;\n",
              "      fill: #D2E3FC;\n",
              "    }\n",
              "\n",
              "    [theme=dark] .colab-df-convert:hover {\n",
              "      background-color: #434B5C;\n",
              "      box-shadow: 0px 1px 3px 1px rgba(0, 0, 0, 0.15);\n",
              "      filter: drop-shadow(0px 1px 2px rgba(0, 0, 0, 0.3));\n",
              "      fill: #FFFFFF;\n",
              "    }\n",
              "  </style>\n",
              "\n",
              "    <script>\n",
              "      const buttonEl =\n",
              "        document.querySelector('#df-656f6c10-2a78-4594-9f2f-9764a3ed8762 button.colab-df-convert');\n",
              "      buttonEl.style.display =\n",
              "        google.colab.kernel.accessAllowed ? 'block' : 'none';\n",
              "\n",
              "      async function convertToInteractive(key) {\n",
              "        const element = document.querySelector('#df-656f6c10-2a78-4594-9f2f-9764a3ed8762');\n",
              "        const dataTable =\n",
              "          await google.colab.kernel.invokeFunction('convertToInteractive',\n",
              "                                                    [key], {});\n",
              "        if (!dataTable) return;\n",
              "\n",
              "        const docLinkHtml = 'Like what you see? Visit the ' +\n",
              "          '<a target=\"_blank\" href=https://colab.research.google.com/notebooks/data_table.ipynb>data table notebook</a>'\n",
              "          + ' to learn more about interactive tables.';\n",
              "        element.innerHTML = '';\n",
              "        dataTable['output_type'] = 'display_data';\n",
              "        await google.colab.output.renderOutput(dataTable, element);\n",
              "        const docLink = document.createElement('div');\n",
              "        docLink.innerHTML = docLinkHtml;\n",
              "        element.appendChild(docLink);\n",
              "      }\n",
              "    </script>\n",
              "  </div>\n",
              "\n",
              "\n",
              "<div id=\"df-807cba20-de36-4bb8-952b-0695b07659c2\">\n",
              "  <button class=\"colab-df-quickchart\" onclick=\"quickchart('df-807cba20-de36-4bb8-952b-0695b07659c2')\"\n",
              "            title=\"Suggest charts\"\n",
              "            style=\"display:none;\">\n",
              "\n",
              "<svg xmlns=\"http://www.w3.org/2000/svg\" height=\"24px\"viewBox=\"0 0 24 24\"\n",
              "     width=\"24px\">\n",
              "    <g>\n",
              "        <path d=\"M19 3H5c-1.1 0-2 .9-2 2v14c0 1.1.9 2 2 2h14c1.1 0 2-.9 2-2V5c0-1.1-.9-2-2-2zM9 17H7v-7h2v7zm4 0h-2V7h2v10zm4 0h-2v-4h2v4z\"/>\n",
              "    </g>\n",
              "</svg>\n",
              "  </button>\n",
              "\n",
              "<style>\n",
              "  .colab-df-quickchart {\n",
              "      --bg-color: #E8F0FE;\n",
              "      --fill-color: #1967D2;\n",
              "      --hover-bg-color: #E2EBFA;\n",
              "      --hover-fill-color: #174EA6;\n",
              "      --disabled-fill-color: #AAA;\n",
              "      --disabled-bg-color: #DDD;\n",
              "  }\n",
              "\n",
              "  [theme=dark] .colab-df-quickchart {\n",
              "      --bg-color: #3B4455;\n",
              "      --fill-color: #D2E3FC;\n",
              "      --hover-bg-color: #434B5C;\n",
              "      --hover-fill-color: #FFFFFF;\n",
              "      --disabled-bg-color: #3B4455;\n",
              "      --disabled-fill-color: #666;\n",
              "  }\n",
              "\n",
              "  .colab-df-quickchart {\n",
              "    background-color: var(--bg-color);\n",
              "    border: none;\n",
              "    border-radius: 50%;\n",
              "    cursor: pointer;\n",
              "    display: none;\n",
              "    fill: var(--fill-color);\n",
              "    height: 32px;\n",
              "    padding: 0;\n",
              "    width: 32px;\n",
              "  }\n",
              "\n",
              "  .colab-df-quickchart:hover {\n",
              "    background-color: var(--hover-bg-color);\n",
              "    box-shadow: 0 1px 2px rgba(60, 64, 67, 0.3), 0 1px 3px 1px rgba(60, 64, 67, 0.15);\n",
              "    fill: var(--button-hover-fill-color);\n",
              "  }\n",
              "\n",
              "  .colab-df-quickchart-complete:disabled,\n",
              "  .colab-df-quickchart-complete:disabled:hover {\n",
              "    background-color: var(--disabled-bg-color);\n",
              "    fill: var(--disabled-fill-color);\n",
              "    box-shadow: none;\n",
              "  }\n",
              "\n",
              "  .colab-df-spinner {\n",
              "    border: 2px solid var(--fill-color);\n",
              "    border-color: transparent;\n",
              "    border-bottom-color: var(--fill-color);\n",
              "    animation:\n",
              "      spin 1s steps(1) infinite;\n",
              "  }\n",
              "\n",
              "  @keyframes spin {\n",
              "    0% {\n",
              "      border-color: transparent;\n",
              "      border-bottom-color: var(--fill-color);\n",
              "      border-left-color: var(--fill-color);\n",
              "    }\n",
              "    20% {\n",
              "      border-color: transparent;\n",
              "      border-left-color: var(--fill-color);\n",
              "      border-top-color: var(--fill-color);\n",
              "    }\n",
              "    30% {\n",
              "      border-color: transparent;\n",
              "      border-left-color: var(--fill-color);\n",
              "      border-top-color: var(--fill-color);\n",
              "      border-right-color: var(--fill-color);\n",
              "    }\n",
              "    40% {\n",
              "      border-color: transparent;\n",
              "      border-right-color: var(--fill-color);\n",
              "      border-top-color: var(--fill-color);\n",
              "    }\n",
              "    60% {\n",
              "      border-color: transparent;\n",
              "      border-right-color: var(--fill-color);\n",
              "    }\n",
              "    80% {\n",
              "      border-color: transparent;\n",
              "      border-right-color: var(--fill-color);\n",
              "      border-bottom-color: var(--fill-color);\n",
              "    }\n",
              "    90% {\n",
              "      border-color: transparent;\n",
              "      border-bottom-color: var(--fill-color);\n",
              "    }\n",
              "  }\n",
              "</style>\n",
              "\n",
              "  <script>\n",
              "    async function quickchart(key) {\n",
              "      const quickchartButtonEl =\n",
              "        document.querySelector('#' + key + ' button');\n",
              "      quickchartButtonEl.disabled = true;  // To prevent multiple clicks.\n",
              "      quickchartButtonEl.classList.add('colab-df-spinner');\n",
              "      try {\n",
              "        const charts = await google.colab.kernel.invokeFunction(\n",
              "            'suggestCharts', [key], {});\n",
              "      } catch (error) {\n",
              "        console.error('Error during call to suggestCharts:', error);\n",
              "      }\n",
              "      quickchartButtonEl.classList.remove('colab-df-spinner');\n",
              "      quickchartButtonEl.classList.add('colab-df-quickchart-complete');\n",
              "    }\n",
              "    (() => {\n",
              "      let quickchartButtonEl =\n",
              "        document.querySelector('#df-807cba20-de36-4bb8-952b-0695b07659c2 button');\n",
              "      quickchartButtonEl.style.display =\n",
              "        google.colab.kernel.accessAllowed ? 'block' : 'none';\n",
              "    })();\n",
              "  </script>\n",
              "</div>\n",
              "\n",
              "    </div>\n",
              "  </div>\n"
            ],
            "application/vnd.google.colaboratory.intrinsic+json": {
              "type": "dataframe",
              "summary": "{\n  \"name\": \"date_df[['day', 'month', 'year']]\",\n  \"rows\": 3,\n  \"fields\": [\n    {\n      \"column\": \"day\",\n      \"properties\": {\n        \"dtype\": \"int32\",\n        \"num_unique_values\": 3,\n        \"samples\": [\n          1,\n          15,\n          20\n        ],\n        \"semantic_type\": \"\",\n        \"description\": \"\"\n      }\n    },\n    {\n      \"column\": \"month\",\n      \"properties\": {\n        \"dtype\": \"int32\",\n        \"num_unique_values\": 3,\n        \"samples\": [\n          1,\n          2,\n          3\n        ],\n        \"semantic_type\": \"\",\n        \"description\": \"\"\n      }\n    },\n    {\n      \"column\": \"year\",\n      \"properties\": {\n        \"dtype\": \"int32\",\n        \"num_unique_values\": 1,\n        \"samples\": [\n          2024\n        ],\n        \"semantic_type\": \"\",\n        \"description\": \"\"\n      }\n    }\n  ]\n}"
            }
          },
          "metadata": {},
          "execution_count": 5
        }
      ]
    },
    {
      "cell_type": "code",
      "source": [
        "# Count the number of rows before removing duplicates\n",
        "duplicates_before = dataset.shape[0]  # Get the total number of rows in the original dataset\n",
        "\n",
        "# Remove duplicate rows from the dataset\n",
        "dataset_cleaned = dataset.drop_duplicates()  # Create a new DataFrame without duplicates\n",
        "\n",
        "# Count the number of rows after duplicates have been removed\n",
        "duplicates_after = dataset_cleaned.shape[0]  # Get the total number of rows in the cleaned dataset\n",
        "\n",
        "# Calculate how many duplicates were removed\n",
        "duplicates_removed = duplicates_before - duplicates_after  # Subtract to find the count of removed duplicates\n",
        "\n",
        "# Output the number of duplicates removed and the cleaned dataset\n",
        "duplicates_removed, dataset_cleaned  # Return the count of duplicates removed and the cleaned DataFrame"
      ],
      "metadata": {
        "colab": {
          "base_uri": "https://localhost:8080/"
        },
        "id": "8-pIz6Jkdhg4",
        "outputId": "4b734085-2dfb-4c97-f550-684cb126d894"
      },
      "execution_count": 6,
      "outputs": [
        {
          "output_type": "execute_result",
          "data": {
            "text/plain": [
              "(0,\n",
              "          Age   Income  Gender Region      City Purchased\n",
              " 0  25.000000  50000.0    Male  North  New York       Yes\n",
              " 1  30.000000  60000.0  Female  South    London        No\n",
              " 2  35.000000  75000.0  Female   East     Tokyo       Yes\n",
              " 3  40.000000  80000.0    Male   West     Paris        No\n",
              " 4  33.888889  45000.0    Male  North  New York       Yes\n",
              " 5  50.000000  59875.0  Female  South    London        No\n",
              " 6  28.000000  52000.0  Female   East     Tokyo       Yes\n",
              " 7  32.000000  62000.0    Male   West     Paris        No\n",
              " 8  36.000000  59875.0    Male  North  New York       Yes\n",
              " 9  29.000000  55000.0  Female   East     Tokyo        No)"
            ]
          },
          "metadata": {},
          "execution_count": 6
        }
      ]
    },
    {
      "cell_type": "code",
      "source": [
        "# Question 4\n",
        "\n",
        "# Identify outliers using the IQR method for the 'Income' column\n",
        "Q1 = dataset['Income'].quantile(0.25)\n",
        "Q3 = dataset['Income'].quantile(0.75)\n",
        "IQR = Q3 - Q1\n",
        "lower_bound = Q1 - 1.5 * IQR\n",
        "upper_bound = Q3 + 1.5 * IQR\n",
        "\n",
        "# Remove outliers\n",
        "outliers_removed = dataset[(dataset['Income'] >= lower_bound) & (dataset['Income'] <= upper_bound)]\n",
        "rows_removed = dataset.shape[0] - outliers_removed.shape[0]\n",
        "\n",
        "rows_removed, outliers_removed"
      ],
      "metadata": {
        "colab": {
          "base_uri": "https://localhost:8080/"
        },
        "id": "MHVfzaEhdmvq",
        "outputId": "5cc392a0-6a65-4473-ef6f-698a25b9baaf"
      },
      "execution_count": 7,
      "outputs": [
        {
          "output_type": "execute_result",
          "data": {
            "text/plain": [
              "(2,\n",
              "          Age   Income  Gender Region      City Purchased\n",
              " 0  25.000000  50000.0    Male  North  New York       Yes\n",
              " 1  30.000000  60000.0  Female  South    London        No\n",
              " 4  33.888889  45000.0    Male  North  New York       Yes\n",
              " 5  50.000000  59875.0  Female  South    London        No\n",
              " 6  28.000000  52000.0  Female   East     Tokyo       Yes\n",
              " 7  32.000000  62000.0    Male   West     Paris        No\n",
              " 8  36.000000  59875.0    Male  North  New York       Yes\n",
              " 9  29.000000  55000.0  Female   East     Tokyo        No)"
            ]
          },
          "metadata": {},
          "execution_count": 7
        }
      ]
    },
    {
      "cell_type": "code",
      "source": [
        "# Question 5\n",
        "\n",
        "from sklearn.preprocessing import LabelEncoder\n",
        "\n",
        "# Sample data for the City column\n",
        "cities = ['New York', 'London', 'Tokyo', 'Paris']\n",
        "\n",
        "# Initialize the LabelEncoder\n",
        "label_encoder = LabelEncoder()\n",
        "\n",
        "# Fit and transform the City labels\n",
        "encoded_cities = label_encoder.fit_transform(cities)\n",
        "encoded_cities"
      ],
      "metadata": {
        "colab": {
          "base_uri": "https://localhost:8080/"
        },
        "id": "5tyAleo5egk7",
        "outputId": "f588e18b-2a6a-4d75-89a5-abbd14a4cabf"
      },
      "execution_count": 8,
      "outputs": [
        {
          "output_type": "execute_result",
          "data": {
            "text/plain": [
              "array([1, 0, 3, 2])"
            ]
          },
          "metadata": {},
          "execution_count": 8
        }
      ]
    },
    {
      "cell_type": "code",
      "source": [
        "# Question 6\n",
        "\n",
        "from sklearn.compose import ColumnTransformer\n",
        "from sklearn.preprocessing import StandardScaler, OneHotEncoder\n",
        "\n",
        "# Load the dataset again for transformation\n",
        "dataset = pd.read_csv(file_path)\n",
        "\n",
        "# Initialize the ColumnTransformer\n",
        "column_transformer = ColumnTransformer(\n",
        "    transformers=[\n",
        "        ('num', StandardScaler(), ['Age', 'Income']),\n",
        "        ('cat', OneHotEncoder(), ['City'])\n",
        "    ])\n",
        "\n",
        "# Apply transformations\n",
        "transformed_data = column_transformer.fit_transform(dataset)\n",
        "transformed_data"
      ],
      "metadata": {
        "colab": {
          "base_uri": "https://localhost:8080/"
        },
        "id": "lUctSt-6emKf",
        "outputId": "185837f9-ba4b-4e79-d805-d38a17aa5471"
      },
      "execution_count": 9,
      "outputs": [
        {
          "output_type": "execute_result",
          "data": {
            "text/plain": [
              "array([[-1.24484409, -0.86490014,  0.        ,  1.        ,  0.        ,\n",
              "         0.        ],\n",
              "       [-0.54461929,  0.0109481 ,  1.        ,  0.        ,  0.        ,\n",
              "         0.        ],\n",
              "       [ 0.15560551,  1.32472047,  0.        ,  0.        ,  0.        ,\n",
              "         1.        ],\n",
              "       [ 0.85583031,  1.7626446 ,  0.        ,  0.        ,  1.        ,\n",
              "         0.        ],\n",
              "       [        nan, -1.30282427,  0.        ,  1.        ,  0.        ,\n",
              "         0.        ],\n",
              "       [ 2.25627991,         nan,  1.        ,  0.        ,  0.        ,\n",
              "         0.        ],\n",
              "       [-0.82470921, -0.68973049,  0.        ,  0.        ,  0.        ,\n",
              "         1.        ],\n",
              "       [-0.26452937,  0.18611775,  0.        ,  0.        ,  1.        ,\n",
              "         0.        ],\n",
              "       [ 0.29565047,         nan,  0.        ,  1.        ,  0.        ,\n",
              "         0.        ],\n",
              "       [-0.68466425, -0.42697602,  0.        ,  0.        ,  0.        ,\n",
              "         1.        ]])"
            ]
          },
          "metadata": {},
          "execution_count": 9
        }
      ]
    },
    {
      "cell_type": "code",
      "source": [
        "# Question 7\n",
        "\n",
        "from sklearn.model_selection import train_test_split\n",
        "\n",
        "# Split the dataset into features and target variable\n",
        "features = dataset.drop(columns=['Purchased'])\n",
        "target = dataset['Purchased']\n",
        "\n",
        "# Split the dataset into training and testing sets (80% train, 20% test)\n",
        "X_train, X_test, y_train, y_test = train_test_split(features, target, test_size=0.2, random_state=42)\n",
        "\n",
        "X_train, X_test, y_train, y_test"
      ],
      "metadata": {
        "colab": {
          "base_uri": "https://localhost:8080/"
        },
        "id": "IiJ7Loh4eqEe",
        "outputId": "15f41f0e-1d9f-4250-c8d6-5e5ccc97b333"
      },
      "execution_count": 10,
      "outputs": [
        {
          "output_type": "execute_result",
          "data": {
            "text/plain": [
              "(    Age   Income  Gender Region      City\n",
              " 5  50.0      NaN  Female  South    London\n",
              " 0  25.0  50000.0    Male  North  New York\n",
              " 7  32.0  62000.0    Male   West     Paris\n",
              " 2  35.0  75000.0  Female   East     Tokyo\n",
              " 9  29.0  55000.0  Female   East     Tokyo\n",
              " 4   NaN  45000.0    Male  North  New York\n",
              " 3  40.0  80000.0    Male   West     Paris\n",
              " 6  28.0  52000.0  Female   East     Tokyo,\n",
              "     Age   Income  Gender Region      City\n",
              " 8  36.0      NaN    Male  North  New York\n",
              " 1  30.0  60000.0  Female  South    London,\n",
              " 5     No\n",
              " 0    Yes\n",
              " 7     No\n",
              " 2    Yes\n",
              " 9     No\n",
              " 4    Yes\n",
              " 3     No\n",
              " 6    Yes\n",
              " Name: Purchased, dtype: object,\n",
              " 8    Yes\n",
              " 1     No\n",
              " Name: Purchased, dtype: object)"
            ]
          },
          "metadata": {},
          "execution_count": 10
        }
      ]
    },
    {
      "cell_type": "code",
      "source": [
        "# Question 8\n",
        "\n",
        "from sklearn.preprocessing import StandardScaler, MinMaxScaler\n",
        "\n",
        "# Selecting numerical features for scaling\n",
        "numerical_features = dataset[['Age', 'Income']]\n",
        "\n",
        "# Scale using StandardScaler\n",
        "standard_scaler = StandardScaler()\n",
        "standard_scaled = standard_scaler.fit_transform(numerical_features)\n",
        "\n",
        "# Scale using MinMaxScaler\n",
        "minmax_scaler = MinMaxScaler()\n",
        "minmax_scaled = minmax_scaler.fit_transform(numerical_features)\n",
        "\n",
        "standard_scaled, minmax_scaled"
      ],
      "metadata": {
        "colab": {
          "base_uri": "https://localhost:8080/"
        },
        "id": "5BRjzwBAe1DJ",
        "outputId": "57bf3884-e0cc-4437-88dc-ac986b24c64e"
      },
      "execution_count": 11,
      "outputs": [
        {
          "output_type": "execute_result",
          "data": {
            "text/plain": [
              "(array([[-1.24484409, -0.86490014],\n",
              "        [-0.54461929,  0.0109481 ],\n",
              "        [ 0.15560551,  1.32472047],\n",
              "        [ 0.85583031,  1.7626446 ],\n",
              "        [        nan, -1.30282427],\n",
              "        [ 2.25627991,         nan],\n",
              "        [-0.82470921, -0.68973049],\n",
              "        [-0.26452937,  0.18611775],\n",
              "        [ 0.29565047,         nan],\n",
              "        [-0.68466425, -0.42697602]]),\n",
              " array([[0.        , 0.14285714],\n",
              "        [0.2       , 0.42857143],\n",
              "        [0.4       , 0.85714286],\n",
              "        [0.6       , 1.        ],\n",
              "        [       nan, 0.        ],\n",
              "        [1.        ,        nan],\n",
              "        [0.12      , 0.2       ],\n",
              "        [0.28      , 0.48571429],\n",
              "        [0.44      ,        nan],\n",
              "        [0.16      , 0.28571429]]))"
            ]
          },
          "metadata": {},
          "execution_count": 11
        }
      ]
    },
    {
      "cell_type": "code",
      "source": [
        "import pandas as pd\n",
        "\n",
        "# Load the dataset again for comprehensive processing\n",
        "dataset = pd.read_csv(file_path)\n",
        "\n",
        "# Handle missing values: replace Age with mean and Income with median.\n",
        "dataset['Age'].fillna(dataset['Age'].mean(), inplace=True)\n",
        "dataset['Income'].fillna(dataset['Income'].median(), inplace=True)\n",
        "\n",
        "# Encode Gender using label encoding.\n",
        "label_encoder = LabelEncoder()\n",
        "dataset['Gender'] = label_encoder.fit_transform(dataset['Gender'])\n",
        "\n",
        "# One-hot encode Region.\n",
        "dataset = pd.get_dummies(dataset, columns=['Region'], drop_first=True)\n",
        "\n",
        "# Split into features and target variable.\n",
        "features = dataset.drop(columns=['Purchased'])\n",
        "target = dataset['Purchased']\n",
        "\n",
        "# Split into training and testing sets.\n",
        "X_train, X_test, y_train, y_test = train_test_split(features, target, test_size=0.2, random_state=42)\n",
        "\n",
        "# Scale numerical features.\n",
        "scaler = StandardScaler()\n",
        "X_train_scaled = scaler.fit_transform(X_train[['Age', 'Income']])\n",
        "X_test_scaled = scaler.transform(X_test[['Age', 'Income']])\n",
        "\n",
        "X_train_scaled, X_test_scaled, y_train, y_test"
      ],
      "metadata": {
        "colab": {
          "base_uri": "https://localhost:8080/"
        },
        "id": "Gp4P_AvHe3SH",
        "outputId": "29ab62ec-14e9-49b5-d1b7-ffea9f69d3ad"
      },
      "execution_count": 13,
      "outputs": [
        {
          "output_type": "stream",
          "name": "stderr",
          "text": [
            "<ipython-input-13-243a2f2a972c>:7: FutureWarning: A value is trying to be set on a copy of a DataFrame or Series through chained assignment using an inplace method.\n",
            "The behavior will change in pandas 3.0. This inplace method will never work because the intermediate object on which we are setting values always behaves as a copy.\n",
            "\n",
            "For example, when doing 'df[col].method(value, inplace=True)', try using 'df.method({col: value}, inplace=True)' or df[col] = df[col].method(value) instead, to perform the operation inplace on the original object.\n",
            "\n",
            "\n",
            "  dataset['Age'].fillna(dataset['Age'].mean(), inplace=True)\n",
            "<ipython-input-13-243a2f2a972c>:8: FutureWarning: A value is trying to be set on a copy of a DataFrame or Series through chained assignment using an inplace method.\n",
            "The behavior will change in pandas 3.0. This inplace method will never work because the intermediate object on which we are setting values always behaves as a copy.\n",
            "\n",
            "For example, when doing 'df[col].method(value, inplace=True)', try using 'df.method({col: value}, inplace=True)' or df[col] = df[col].method(value) instead, to perform the operation inplace on the original object.\n",
            "\n",
            "\n",
            "  dataset['Income'].fillna(dataset['Income'].median(), inplace=True)\n"
          ]
        },
        {
          "output_type": "execute_result",
          "data": {
            "text/plain": [
              "(array([[ 2.14510726, -0.18022565],\n",
              "        [-1.2300615 , -0.83559163],\n",
              "        [-0.28501425,  0.21299395],\n",
              "        [ 0.120006  ,  1.34896166],\n",
              "        [-0.6900345 , -0.39868098],\n",
              "        [-0.0300015 , -1.27250229],\n",
              "        [ 0.79503975,  1.78587232],\n",
              "        [-0.82504125, -0.66082737]]),\n",
              " array([[ 0.25501275, -0.18022565],\n",
              "        [-0.55502775,  0.03822968]]),\n",
              " 5     No\n",
              " 0    Yes\n",
              " 7     No\n",
              " 2    Yes\n",
              " 9     No\n",
              " 4    Yes\n",
              " 3     No\n",
              " 6    Yes\n",
              " Name: Purchased, dtype: object,\n",
              " 8    Yes\n",
              " 1     No\n",
              " Name: Purchased, dtype: object)"
            ]
          },
          "metadata": {},
          "execution_count": 13
        }
      ]
    }
  ]
}