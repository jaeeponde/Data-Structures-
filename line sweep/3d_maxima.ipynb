{
 "cells": [
  {
   "cell_type": "code",
   "execution_count": 1,
   "metadata": {},
   "outputs": [],
   "source": [
    "#input nos (x1,x2,x3)....\n",
    "#sort by x \n",
    "#mantain a list of projections in the y-z plane\n",
    "#mantain list called max points "
   ]
  },
  {
   "cell_type": "code",
   "execution_count": 9,
   "metadata": {},
   "outputs": [],
   "source": [
    "points=[[9,7,6],[7,8,3],[4,5,3],[3,3,6],[2,9,9],[1,9,2]]"
   ]
  },
  {
   "cell_type": "code",
   "execution_count": 10,
   "metadata": {},
   "outputs": [
    {
     "data": {
      "text/plain": [
       "[[9, 7, 6], [7, 8, 3], [4, 5, 3], [3, 3, 6], [2, 9, 9], [1, 9, 2]]"
      ]
     },
     "execution_count": 10,
     "metadata": {},
     "output_type": "execute_result"
    }
   ],
   "source": [
    "sorted(points, key=lambda point: point[0])\n",
    "points\n",
    "\n"
   ]
  },
  {
   "cell_type": "code",
   "execution_count": 11,
   "metadata": {},
   "outputs": [],
   "source": [
    "length=len(points)"
   ]
  },
  {
   "cell_type": "code",
   "execution_count": 15,
   "metadata": {},
   "outputs": [
    {
     "name": "stdout",
     "output_type": "stream",
     "text": [
      "[4, 5, 3]\n",
      "is dominated by\n",
      "[9, 7, 6]\n",
      "[[9, 7, 6], [9, 7, 6], [7, 8, 3], [3, 3, 6], [2, 9, 9], [1, 9, 2]]\n"
     ]
    }
   ],
   "source": [
    "#input nos (x1,x2,x3)....\n",
    "#sort by x \n",
    "#mantain a list of projections in the y-z plane\n",
    "#mantain list called max points \n",
    "\n",
    "points=[[9,7,6],[7,8,3],[4,5,3],[3,3,6],[2,9,9],[1,9,2]]\n",
    "sorted(points, key=lambda point: point[0])\n",
    "points\n",
    "\n",
    "length=len(points)\n",
    "\n",
    "staircase=[]\n",
    "maximal =[]\n",
    "i=0\n",
    "staircase.append(points[0])\n",
    "maximal.append(points[0])\n",
    "stairs=len(staircase)\n",
    "xmax=points[0][0]\n",
    "while(i<length):\n",
    "    flag=0\n",
    "    current=points[i]\n",
    "    if current[0]==xmax:\n",
    "        maximal.append(current)\n",
    "        i+=1\n",
    "    else: \n",
    "        for elm in staircase:\n",
    "            if current[1]<elm[1] and current[2]<elm[2]:\n",
    "                flag+=1 \n",
    "                print (current)\n",
    "                print (\"is dominated by\")\n",
    "                print (elm)\n",
    "            if current[1]>elm[1] and current[2]>elm[2]:\n",
    "                staircase.remove(elm)\n",
    "        if flag==0:\n",
    "            staircase.append(current)\n",
    "            maximal.append(current)\n",
    "            xmax=current[0]\n",
    "            i+=1\n",
    "        else:\n",
    "            i+=1\n",
    "\n",
    "print(maximal)\n",
    "\n",
    "    \n",
    "\n",
    "        \n",
    "\n"
   ]
  }
 ],
 "metadata": {
  "kernelspec": {
   "display_name": "Python 3",
   "language": "python",
   "name": "python3"
  },
  "language_info": {
   "codemirror_mode": {
    "name": "ipython",
    "version": 3
   },
   "file_extension": ".py",
   "mimetype": "text/x-python",
   "name": "python",
   "nbconvert_exporter": "python",
   "pygments_lexer": "ipython3",
   "version": "3.11.9"
  },
  "orig_nbformat": 4
 },
 "nbformat": 4,
 "nbformat_minor": 2
}
